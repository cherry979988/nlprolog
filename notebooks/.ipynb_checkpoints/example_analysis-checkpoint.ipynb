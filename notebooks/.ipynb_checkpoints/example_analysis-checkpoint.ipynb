{
 "cells": [
  {
   "cell_type": "code",
   "execution_count": 2,
   "metadata": {},
   "outputs": [],
   "source": [
    "import pandas as pd\n",
    "import sys\n",
    "import json\n",
    "sys.path.append('..')\n",
    "import evaluation_utils\n",
    "import visualize_proof_tree\n",
    "import numpy as np\n",
    "\n",
    "%matplotlib inline"
   ]
  },
  {
   "cell_type": "code",
   "execution_count": null,
   "metadata": {},
   "outputs": [],
   "source": [
    "# df = pd.read_csv('../results/developer_sent2vec.json_results.csv')\n",
    "idx = 0\n",
    "pred_idx = 0\n",
    "print(\"Acc:\", np.mean(df['correct']))\n",
    "unifications = json.loads(df['unifications'][idx].replace(\"'\", '\"').replace('n\"t', 'nt').replace('\"ve', 've'))[pred_idx]\n",
    "rules = json.loads(df['rules'][idx].replace(\"'\", '\"'))[pred_idx]\n",
    "print(unifications)\n",
    "visualize_proof_tree.plot(*visualize_proof_tree.build_tree(rules))"
   ]
  }
 ],
 "metadata": {
  "kernelspec": {
   "display_name": "Python 3",
   "language": "python",
   "name": "python3"
  },
  "language_info": {
   "codemirror_mode": {
    "name": "ipython",
    "version": 3
   },
   "file_extension": ".py",
   "mimetype": "text/x-python",
   "name": "python",
   "nbconvert_exporter": "python",
   "pygments_lexer": "ipython3",
   "version": "3.7.1"
  }
 },
 "nbformat": 4,
 "nbformat_minor": 2
}
